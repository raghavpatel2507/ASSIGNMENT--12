{
 "cells": [
  {
   "cell_type": "code",
   "execution_count": 1,
   "id": "e0bfe31c",
   "metadata": {},
   "outputs": [],
   "source": [
    "#Q-1\n",
    "#Open a file for writing. Creates a new file if it does not exist or truncates the file if it exists.\n",
    "file=open('example.txt','w')"
   ]
  },
  {
   "cell_type": "code",
   "execution_count": 3,
   "id": "4f7d6d76",
   "metadata": {},
   "outputs": [],
   "source": [
    "#Open a file for reading. \n",
    "file1=open('example.txt','r')"
   ]
  },
  {
   "cell_type": "code",
   "execution_count": 4,
   "id": "e5a14a76",
   "metadata": {},
   "outputs": [
    {
     "ename": "FileExistsError",
     "evalue": "[Errno 17] File exists: 'example.txt'",
     "output_type": "error",
     "traceback": [
      "\u001b[1;31m---------------------------------------------------------------------------\u001b[0m",
      "\u001b[1;31mFileExistsError\u001b[0m                           Traceback (most recent call last)",
      "\u001b[1;32m~\\AppData\\Local\\Temp\\ipykernel_4464\\1131849733.py\u001b[0m in \u001b[0;36m<module>\u001b[1;34m\u001b[0m\n\u001b[0;32m      1\u001b[0m \u001b[1;31m#\u001b[0m\u001b[1;33m\u001b[0m\u001b[1;33m\u001b[0m\u001b[0m\n\u001b[1;32m----> 2\u001b[1;33m \u001b[0mfile2\u001b[0m\u001b[1;33m=\u001b[0m\u001b[0mopen\u001b[0m\u001b[1;33m(\u001b[0m\u001b[1;34m'example.txt'\u001b[0m\u001b[1;33m,\u001b[0m\u001b[1;34m'x'\u001b[0m\u001b[1;33m)\u001b[0m\u001b[1;33m\u001b[0m\u001b[1;33m\u001b[0m\u001b[0m\n\u001b[0m",
      "\u001b[1;31mFileExistsError\u001b[0m: [Errno 17] File exists: 'example.txt'"
     ]
    }
   ],
   "source": [
    "#Open a file for exclusive creation. If the file already exists, the operation fails.\n",
    "file2=open('example.txt','x')"
   ]
  },
  {
   "cell_type": "code",
   "execution_count": 5,
   "id": "1b0417c2",
   "metadata": {},
   "outputs": [],
   "source": [
    "#Open a file for appending at the end of the file without truncating it. Creates a new file if it does not exist.\n",
    "file3=open('example.txt','a')"
   ]
  },
  {
   "cell_type": "code",
   "execution_count": 7,
   "id": "859fec4d",
   "metadata": {},
   "outputs": [],
   "source": [
    "#open the file binarry mode\n",
    "file4=open('example.bin','wb')"
   ]
  },
  {
   "cell_type": "code",
   "execution_count": 8,
   "id": "4757a1c8",
   "metadata": {},
   "outputs": [],
   "source": [
    "#Q-2\n",
    "#close() function closes the file and frees the memory space acquired by that file. It is used at the time when the file is no longer needed or if it is to be opened in a different file mode.\n",
    "file1 = open(\"MyFile.txt\",\"a\")\n",
    "file1.close()"
   ]
  },
  {
   "cell_type": "code",
   "execution_count": 9,
   "id": "e7fce8df",
   "metadata": {},
   "outputs": [],
   "source": [
    "#Q-3\n",
    "file=open('datscience.txt','w')\n",
    "file.write('I want to become a Data Scientist')\n",
    "file.close()"
   ]
  },
  {
   "cell_type": "code",
   "execution_count": 11,
   "id": "06906842",
   "metadata": {},
   "outputs": [
    {
     "data": {
      "text/plain": [
       "'I want to become a Data Scientist'"
      ]
     },
     "execution_count": 11,
     "metadata": {},
     "output_type": "execute_result"
    }
   ],
   "source": [
    "file=open('datscience.txt','r')\n",
    "file.read()"
   ]
  },
  {
   "cell_type": "code",
   "execution_count": 12,
   "id": "35f6e7ca",
   "metadata": {},
   "outputs": [
    {
     "data": {
      "text/plain": [
       "'I want to become a Data Scientist'"
      ]
     },
     "execution_count": 12,
     "metadata": {},
     "output_type": "execute_result"
    }
   ],
   "source": [
    "#Q-4\n",
    "# read()\n",
    "file=open('datscience.txt','r')\n",
    "file.read()"
   ]
  },
  {
   "cell_type": "code",
   "execution_count": 15,
   "id": "8df02823",
   "metadata": {},
   "outputs": [
    {
     "data": {
      "text/plain": [
       "'I want to '"
      ]
     },
     "execution_count": 15,
     "metadata": {},
     "output_type": "execute_result"
    }
   ],
   "source": [
    "# readline()\n",
    "file.seek(0)\n",
    "file.readline(10)\n"
   ]
  },
  {
   "cell_type": "code",
   "execution_count": 17,
   "id": "ab02d77e",
   "metadata": {},
   "outputs": [
    {
     "data": {
      "text/plain": [
       "['become a Data Scientist']"
      ]
     },
     "execution_count": 17,
     "metadata": {},
     "output_type": "execute_result"
    }
   ],
   "source": [
    "#readlines()\n",
    "file.readlines(5)"
   ]
  },
  {
   "cell_type": "code",
   "execution_count": 22,
   "id": "3e3e3815",
   "metadata": {},
   "outputs": [],
   "source": [
    "#Q-5\n",
    "#The with statement works with the open() function to open a file. Unlike open() where you have to close the file with the close() method, the with statement closes the file for you without you telling it to.\n",
    "#Using with means that the file will be closed as soon as you leave the block\n",
    "#example:with open('data1.txt','w') as f:  "
   ]
  },
  {
   "cell_type": "code",
   "execution_count": 26,
   "id": "e41d2046",
   "metadata": {},
   "outputs": [
    {
     "data": {
      "text/plain": [
       "18"
      ]
     },
     "execution_count": 26,
     "metadata": {},
     "output_type": "execute_result"
    }
   ],
   "source": [
    "#Q-6\n",
    "#write() : Inserts the string str1 in a single line in the text file.\n",
    "file5=open('myfile1.txt','w')\n",
    "file5.write('this is a my file ')\n"
   ]
  },
  {
   "cell_type": "code",
   "execution_count": 27,
   "id": "289b494f",
   "metadata": {},
   "outputs": [],
   "source": [
    "#writelines() : For a list of string elements, each string is inserted in the text file.Used to insert multiple strings at a single time.\n",
    "l= [\"This is Delhi \\n\",\"This is Paris \\n\",\"This is London \\n\"] \n",
    "file5.writelines(l)\n",
    "file5.close()"
   ]
  },
  {
   "cell_type": "code",
   "execution_count": 28,
   "id": "b3c47ba8",
   "metadata": {},
   "outputs": [
    {
     "data": {
      "text/plain": [
       "'this is a my file This is Delhi \\nThis is Paris \\nThis is London \\n'"
      ]
     },
     "execution_count": 28,
     "metadata": {},
     "output_type": "execute_result"
    }
   ],
   "source": [
    "file5=open('myfile1.txt','r')\n",
    "file5.read()"
   ]
  },
  {
   "cell_type": "code",
   "execution_count": null,
   "id": "818e6da5",
   "metadata": {},
   "outputs": [],
   "source": []
  }
 ],
 "metadata": {
  "kernelspec": {
   "display_name": "Python 3 (ipykernel)",
   "language": "python",
   "name": "python3"
  },
  "language_info": {
   "codemirror_mode": {
    "name": "ipython",
    "version": 3
   },
   "file_extension": ".py",
   "mimetype": "text/x-python",
   "name": "python",
   "nbconvert_exporter": "python",
   "pygments_lexer": "ipython3",
   "version": "3.9.13"
  }
 },
 "nbformat": 4,
 "nbformat_minor": 5
}
